{
 "cells": [
  {
   "cell_type": "code",
   "execution_count": 2,
   "metadata": {},
   "outputs": [
    {
     "name": "stdout",
     "output_type": "stream",
     "text": [
      "_________________________________________________________________\n",
      "Layer (type)                 Output Shape              Param #   \n",
      "=================================================================\n",
      "input_2 (InputLayer)         (None, 448, 448, 3)       0         \n",
      "_________________________________________________________________\n",
      "block1_conv1 (Conv2D)        (None, 448, 448, 64)      1792      \n",
      "_________________________________________________________________\n",
      "block1_conv2 (Conv2D)        (None, 448, 448, 64)      36928     \n",
      "_________________________________________________________________\n",
      "block1_pool (MaxPooling2D)   (None, 224, 224, 64)      0         \n",
      "_________________________________________________________________\n",
      "block2_conv1 (Conv2D)        (None, 224, 224, 128)     73856     \n",
      "_________________________________________________________________\n",
      "block2_conv2 (Conv2D)        (None, 224, 224, 128)     147584    \n",
      "_________________________________________________________________\n",
      "block2_pool (MaxPooling2D)   (None, 112, 112, 128)     0         \n",
      "_________________________________________________________________\n",
      "block3_conv1 (Conv2D)        (None, 112, 112, 256)     295168    \n",
      "_________________________________________________________________\n",
      "block3_conv2 (Conv2D)        (None, 112, 112, 256)     590080    \n",
      "_________________________________________________________________\n",
      "block3_conv3 (Conv2D)        (None, 112, 112, 256)     590080    \n",
      "_________________________________________________________________\n",
      "block3_pool (MaxPooling2D)   (None, 56, 56, 256)       0         \n",
      "_________________________________________________________________\n",
      "block4_conv1 (Conv2D)        (None, 56, 56, 512)       1180160   \n",
      "_________________________________________________________________\n",
      "block4_conv2 (Conv2D)        (None, 56, 56, 512)       2359808   \n",
      "_________________________________________________________________\n",
      "block4_conv3 (Conv2D)        (None, 56, 56, 512)       2359808   \n",
      "_________________________________________________________________\n",
      "block4_pool (MaxPooling2D)   (None, 28, 28, 512)       0         \n",
      "_________________________________________________________________\n",
      "block5_conv1 (Conv2D)        (None, 28, 28, 512)       2359808   \n",
      "_________________________________________________________________\n",
      "block5_conv2 (Conv2D)        (None, 28, 28, 512)       2359808   \n",
      "_________________________________________________________________\n",
      "block5_conv3 (Conv2D)        (None, 28, 28, 512)       2359808   \n",
      "_________________________________________________________________\n",
      "block5_pool (MaxPooling2D)   (None, 14, 14, 512)       0         \n",
      "_________________________________________________________________\n",
      "sequential_2 (Sequential)    (None, 11)                25693195  \n",
      "=================================================================\n",
      "Total params: 40,407,883\n",
      "Trainable params: 40,407,883\n",
      "Non-trainable params: 0\n",
      "_________________________________________________________________\n",
      "Found 29700 images belonging to 11 classes.\n",
      "Found 3300 images belonging to 11 classes.\n"
     ]
    },
    {
     "name": "stderr",
     "output_type": "stream",
     "text": [
      "/home/serevr/anaconda3/envs/en1/lib/python3.5/site-packages/ipykernel_launcher.py:78: UserWarning: The semantics of the Keras 2 argument `steps_per_epoch` is not the same as the Keras 1 argument `samples_per_epoch`. `steps_per_epoch` is the number of batches to draw from the generator at each epoch. Basically steps_per_epoch = samples_per_epoch/batch_size. Similarly `nb_val_samples`->`validation_steps` and `val_samples`->`steps` arguments have changed. Update your method calls accordingly.\n",
      "/home/serevr/anaconda3/envs/en1/lib/python3.5/site-packages/ipykernel_launcher.py:78: UserWarning: Update your `fit_generator` call to the Keras 2 API: `fit_generator(<keras.pre..., steps_per_epoch=3712, validation_data=<keras.pre..., epochs=4, validation_steps=412)`\n"
     ]
    },
    {
     "name": "stdout",
     "output_type": "stream",
     "text": [
      "Epoch 1/4\n",
      "3712/3712 [==============================] - 1899s 511ms/step - loss: 0.3025 - acc: 0.8932 - top_k_categorical_accuracy: 0.9896 - val_loss: 0.1427 - val_acc: 0.9436 - val_top_k_categorical_accuracy: 0.9997\n",
      "Epoch 2/4\n",
      "3712/3712 [==============================] - 1893s 510ms/step - loss: 0.0551 - acc: 0.9820 - top_k_categorical_accuracy: 1.0000 - val_loss: 0.0959 - val_acc: 0.9636 - val_top_k_categorical_accuracy: 0.9997\n",
      "Epoch 3/4\n",
      "3712/3712 [==============================] - 1897s 511ms/step - loss: 0.0183 - acc: 0.9948 - top_k_categorical_accuracy: 1.0000 - val_loss: 0.1014 - val_acc: 0.9636 - val_top_k_categorical_accuracy: 0.9997\n",
      "Epoch 4/4\n",
      "3712/3712 [==============================] - 1895s 510ms/step - loss: 0.0059 - acc: 0.9988 - top_k_categorical_accuracy: 1.0000 - val_loss: 0.1309 - val_acc: 0.9621 - val_top_k_categorical_accuracy: 0.9997\n"
     ]
    }
   ],
   "source": [
    "import os\n",
    "os.environ[\"CUDA_VISIBLE_DEVICES\"]=\"1\"\n",
    "from keras.models import Sequential, Model, load_model\n",
    "from keras import applications\n",
    "from keras import optimizers\n",
    "from keras.layers import Dropout, Flatten, Dense\n",
    "import numpy as np\n",
    "import matplotlib.pyplot as plt\n",
    "from keras import backend as K\n",
    "import tensorflow as tf\n",
    "\n",
    "\n",
    "from keras.preprocessing.image import ImageDataGenerator\n",
    "from keras.callbacks import ModelCheckpoint\n",
    "\n",
    "img_rows, img_cols, img_channel = 448, 448, 3\n",
    "\n",
    "base_model = applications.VGG16(weights='imagenet', include_top=False, input_shape=(img_rows, img_cols, img_channel))\n",
    "\n",
    "add_model = Sequential()\n",
    "add_model.add(Flatten(input_shape=base_model.output_shape[1:]))\n",
    "#add_model.add(Flatten())\n",
    "add_model.add(Dense(256, activation='relu'))\n",
    "add_model.add(Dense(11, activation='softmax'))\n",
    "\n",
    "model = Model(inputs=base_model.input, outputs=add_model(base_model.output))\n",
    "\n",
    "# compile the model with a SGD/momentum optimizer and a very slow learning rate.\n",
    "model.compile(loss='categorical_crossentropy', optimizer=optimizers.SGD(lr=1e-4, momentum=0.9),\n",
    "              metrics=['accuracy'])\n",
    "\n",
    "model.summary()\n",
    "\n",
    "batch_size = 8\n",
    "\n",
    "epochs = 4\n",
    "nb_train_samples = 29700\n",
    "nb_validation_samples =3300\n",
    "# dimensions of our images.\n",
    "img_width, img_height = 448, 448\n",
    "\n",
    "# prepare data augmentation configuration\n",
    "data_generator = ImageDataGenerator(rescale=1. / 255 , validation_split=0.1)\n",
    "\n",
    "\n",
    "train_data_dir = '/home/serevr/Desktop/NASNET/Class11(448)'\n",
    "\n",
    "\n",
    "train_generator = data_generator.flow_from_directory(\n",
    "   train_data_dir,\n",
    "    target_size=(img_height, img_width),\n",
    "    batch_size=batch_size, shuffle=True, seed=13,subset=\"training\",\n",
    "    class_mode='categorical')\n",
    "\n",
    "validation_generator = data_generator.flow_from_directory(\n",
    "    train_data_dir,\n",
    "    target_size=(img_height, img_width),\n",
    "    batch_size=batch_size, shuffle=False, seed=13,subset=\"validation\",\n",
    "    class_mode='categorical')\n",
    "\n",
    "\n",
    "Y_pred = model.predict_generator(validation_generator, nb_validation_samples//batch_size + 1)\n",
    "y_pred = np.argmax(Y_pred, axis=1)\n",
    "\n",
    "top_values, top_indices = K.get_session().run(tf.nn.top_k(y_pred, k= 5))\n",
    "\n",
    "# compile the model with a SGD/momentum optimizer and a very slow learning rate.\n",
    "model.compile(loss='categorical_crossentropy', optimizer=optimizers.SGD(lr=1e-4, momentum=0.9),\n",
    "              metrics=['accuracy', 'top_k_categorical_accuracy'])\n",
    "\n",
    "# fine-tune the model\n",
    "history = model.fit_generator(\n",
    "    train_generator,\n",
    "    samples_per_epoch=nb_train_samples,\n",
    "    #samples_per_epoch=3712,\n",
    "    epochs=epochs,\n",
    "    validation_data=validation_generator,\n",
    "    nb_val_samples=412\n",
    "    #nb_val_samples=nb_validation_samples\n",
    "    )\n",
    "   "
   ]
  },
  {
   "cell_type": "code",
   "execution_count": 3,
   "metadata": {},
   "outputs": [
    {
     "data": {
      "image/png": "[encoded data removed]",
      "text/plain": [
       "<matplotlib.figure.Figure at 0x7f52903f4710>"
      ]
     },
     "metadata": {
      "needs_background": "light"
     },
     "output_type": "display_data"
    },
    {
     "data": {
      "text/plain": [
       "<matplotlib.figure.Figure at 0x7f51c4491278>"
      ]
     },
     "metadata": {},
     "output_type": "display_data"
    },
    {
     "data": {
      "image/png": "[encoded data removed]",
      "text/plain": [
       "<matplotlib.figure.Figure at 0x7f518c63beb8>"
      ]
     },
     "metadata": {
      "needs_background": "light"
     },
     "output_type": "display_data"
    },
    {
     "data": {
      "text/plain": [
       "<matplotlib.figure.Figure at 0x7f51846861d0>"
      ]
     },
     "metadata": {},
     "output_type": "display_data"
    }
   ],
   "source": [
    "#ploting the graphs to see the loss and accuracy curves\n",
    "acc=history.history['acc']\n",
    "val_acc = history.history['val_acc']\n",
    "loss=history.history['loss']\n",
    "val_loss = history.history['val_loss']\n",
    "\n",
    "epochs = range(len(acc))\n",
    "\n",
    "plt.plot(epochs, acc, 'b', label='Training acc')\n",
    "plt.plot(epochs, val_acc, 'r', label='Validation acc')\n",
    "plt.title('model accuracy')\n",
    "plt.ylabel('accuracy')\n",
    "plt.xlabel('epoch')\n",
    "plt.legend(['train','test'], loc='upper left')\n",
    "\n",
    "plt.figure()\n",
    "\n",
    "plt.show()\n",
    "\n",
    "plt.plot(epochs, loss, 'b', label='Training loss')\n",
    "plt.plot(epochs, val_loss, 'r', label='Validation loss')\n",
    "plt.title('model loss')\n",
    "plt.ylabel('loss')\n",
    "plt.xlabel('epoch')\n",
    "plt.legend(['train','test'], loc='upper right')\n",
    "plt.figure()\n",
    "\n",
    "plt.show()"
   ]
  },
  {
   "cell_type": "code",
   "execution_count": 4,
   "metadata": {},
   "outputs": [
    {
     "name": "stdout",
     "output_type": "stream",
     "text": [
      "Confusion Matrix\n",
      "[[297   0   0   0   2   0   0   0   1   0   0]\n",
      " [  0 297   0   0   0   0   0   0   2   1   0]\n",
      " [  2   0 285   2   0   9   0   1   1   0   0]\n",
      " [  0   0   0 300   0   0   0   0   0   0   0]\n",
      " [  0   0   0   0 300   0   0   0   0   0   0]\n",
      " [  0   0  79   0   0 221   0   0   0   0   0]\n",
      " [  0   0   0   1   0   0 298   0   0   1   0]\n",
      " [  0   0   0   0   0   0   1 297   2   0   0]\n",
      " [  0   2   0   0   0   0   0   0 298   0   0]\n",
      " [  0   0   0   0   0   0   0   0   0 296   4]\n",
      " [  0   1   0   0   0   0   0   0   0  14 285]]\n",
      "Classification Report\n",
      "              precision    recall  f1-score   support\n",
      "\n",
      "        Boat       0.99      0.99      0.99       300\n",
      "         Bus       0.99      0.99      0.99       300\n",
      "         Car       0.78      0.95      0.86       300\n",
      "  Motorcycle       0.99      1.00      1.00       300\n",
      "      Planes       0.99      1.00      1.00       300\n",
      "         Suv       0.96      0.74      0.83       300\n",
      "     Tractor       1.00      0.99      0.99       300\n",
      "     Trailer       1.00      0.99      0.99       300\n",
      "       Train       0.98      0.99      0.99       300\n",
      "       Truck       0.95      0.99      0.97       300\n",
      "         Van       0.99      0.95      0.97       300\n",
      "\n",
      "   micro avg       0.96      0.96      0.96      3300\n",
      "   macro avg       0.97      0.96      0.96      3300\n",
      "weighted avg       0.97      0.96      0.96      3300\n",
      "\n"
     ]
    }
   ],
   "source": [
    "from sklearn.metrics import confusion_matrix, classification_report\n",
    "import numpy as np\n",
    "%matplotlib inline\n",
    "import itertools\n",
    "\n",
    "#confusion Matrix and Classification Report\n",
    "Y_pred = model.predict_generator(validation_generator, nb_validation_samples//batch_size + 1)\n",
    "y_pred = np.argmax(Y_pred, axis=1)\n",
    "print('Confusion Matrix')\n",
    "print(confusion_matrix(validation_generator.classes, y_pred))\n",
    "print('Classification Report')\n",
    "target_names = ['Boat', 'Bus','Car','Motorcycle','Planes','Suv','Tractor','Trailer','Train', 'Truck', 'Van']\n",
    "print(classification_report(validation_generator.classes, y_pred, target_names = target_names))"
   ]
  },
  {
   "cell_type": "code",
   "execution_count": null,
   "metadata": {},
   "outputs": [],
   "source": []
  }
 ],
 "metadata": {
  "kernelspec": {
   "display_name": "Python 3",
   "language": "python",
   "name": "python3"
  },
  "language_info": {
   "codemirror_mode": {
    "name": "ipython",
    "version": 3
   },
   "file_extension": ".py",
   "mimetype": "text/x-python",
   "name": "python",
   "nbconvert_exporter": "python",
   "pygments_lexer": "ipython3",
   "version": "3.7.7"
  }
 },
 "nbformat": 4,
 "nbformat_minor": 2
}
